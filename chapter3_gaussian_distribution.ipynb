{
  "nbformat": 4,
  "nbformat_minor": 0,
  "metadata": {
    "colab": {
      "name": "chapter3-gaussian_distribution.ipynb",
      "provenance": [],
      "include_colab_link": true
    },
    "kernelspec": {
      "name": "python3",
      "display_name": "Python 3"
    },
    "language_info": {
      "name": "python"
    }
  },
  "cells": [
    {
      "cell_type": "markdown",
      "metadata": {
        "id": "view-in-github",
        "colab_type": "text"
      },
      "source": [
        "<a href=\"https://colab.research.google.com/github/kei-mo/bayesian-ml/blob/main/chapter3_gaussian_distribution.ipynb\" target=\"_parent\"><img src=\"https://colab.research.google.com/assets/colab-badge.svg\" alt=\"Open In Colab\"/></a>"
      ]
    },
    {
      "cell_type": "markdown",
      "metadata": {
        "id": "_fo2Gphu-ojP"
      },
      "source": [
        "# 3章 ベイズ推論による学習と予測\n",
        "\n",
        "## ベイズ推論概要\n",
        "観測データの背景に確率分布モデルを仮定する。モデルのパラメータの分布を推定する。パラメータの分布（=事後分布）を推定できるとデータの分布(=予測分布)も推定できるようになる。  \n",
        "\n",
        "**事前分布**：データが観測される前の**パラメータの分布**。  \n",
        "**事後分布**：データが観測されて、それに合わせて更新した**パラメータの分布**。  \n",
        "**予測分布**：データを観測したあとの道データを含む**データの分布**。\n",
        "\n",
        "## ベイズ推論の流れ  \n",
        "**1. モデルとそのモデルのパラメータの事前分布を定義**  \n",
        "モデル：データの確率分布  \n",
        "事前分布：モデルの**パラメータの分布**  \n",
        "**2. 事後分布を計算**     \n",
        "事後分布：データを観測したあとの**パラメータの分布**  \n",
        "\n",
        "**3. 予測分布を計算**  \n",
        "**予測分布**：データを観測したあとの道データを含む**データの分布**。\n",
        "\n",
        "\n",
        "\n"
      ]
    },
    {
      "cell_type": "markdown",
      "metadata": {
        "id": "Aq8QV6O07kkP"
      },
      "source": [
        "## 1次元ガウス分布の学習と予測 (3.3)\n"
      ]
    },
    {
      "cell_type": "markdown",
      "metadata": {
        "id": "3WYpUlTcnJtS"
      },
      "source": [
        "観測データの確率分布を1次元ガウス分布と仮定してモデリングを行った場合のベイズ推論。  \n",
        "\n",
        "**ベイズ推論するパラメータ**\n",
        "* 平均 $\\mu$\n",
        "* 分散 $\\sigma^2$ の代わりに精度$\\lambda= \\sigma^{-2} $\n"
      ]
    },
    {
      "cell_type": "code",
      "metadata": {
        "id": "7Kc4HUmv71dt"
      },
      "source": [
        "def gaussian_distribution_1d(mu,lambda):\n",
        "    return None\n",
        "  "
      ],
      "execution_count": null,
      "outputs": []
    },
    {
      "cell_type": "code",
      "metadata": {
        "id": "21fM83-Km7br"
      },
      "source": [
        ""
      ],
      "execution_count": null,
      "outputs": []
    },
    {
      "cell_type": "markdown",
      "metadata": {
        "id": "QpM9W7O7kBWM"
      },
      "source": [
        "### 平均未知、分散既知の場合 (3.3.1)  \n",
        "\n"
      ]
    },
    {
      "cell_type": "markdown",
      "metadata": {
        "id": "Bm3XCRcEnL2g"
      },
      "source": [
        "#### Step 1 モデルとそのモデルのパラメータの事前分布を定義\n",
        "精度パラメータは固定（既知）であるとして平均パラメータ$\\mu$のみ学習を行う場合。  \n",
        "\n",
        "観測値 $x$に対するガウス分布（モデル）  \n",
        "$p(x|\\mu)=\\mathcal{N}(\\mu, \\lambda^-1)$  \n",
        "今回は$\\mu$を予測して、$\\lambda$は固定。  \n",
        "\n",
        "$\\mu$の事前分布は以下のガウス分布が共役事前分布となる。  \n",
        "$p(\\mu) = \\mathcal{N}(m, \\lambda_{\\mu}^{-1})$  \n",
        "$m, \\lambda_{\\mu}^{-1}$は事前分布の固定されたハイパーパラメータで解析者が設定する。\n",
        "\n",
        "\n",
        " "
      ]
    },
    {
      "cell_type": "markdown",
      "metadata": {
        "id": "HlRcbSJ3pGOm"
      },
      "source": [
        ""
      ]
    },
    {
      "cell_type": "code",
      "metadata": {
        "id": "R4xIU8aC6bfi"
      },
      "source": [
        ""
      ],
      "execution_count": null,
      "outputs": []
    }
  ]
}