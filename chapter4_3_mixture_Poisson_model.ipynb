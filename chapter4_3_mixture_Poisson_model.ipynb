{
  "nbformat": 4,
  "nbformat_minor": 0,
  "metadata": {
    "colab": {
      "name": "chapter4-3-mixture-Poisson-model.ipynb",
      "provenance": [],
      "authorship_tag": "ABX9TyOnYVB2r9Gc3MYBXpYMp9Gi",
      "include_colab_link": true
    },
    "kernelspec": {
      "name": "python3",
      "display_name": "Python 3"
    },
    "language_info": {
      "name": "python"
    }
  },
  "cells": [
    {
      "cell_type": "markdown",
      "metadata": {
        "id": "view-in-github",
        "colab_type": "text"
      },
      "source": [
        "<a href=\"https://colab.research.google.com/github/kei-mo/bayesian-ml/blob/main/chapter4_3_mixture_Poisson_model.ipynb\" target=\"_parent\"><img src=\"https://colab.research.google.com/assets/colab-badge.svg\" alt=\"Open In Colab\"/></a>"
      ]
    },
    {
      "cell_type": "code",
      "metadata": {
        "id": "vEE9i3QOJwXF"
      },
      "source": [
        ""
      ],
      "execution_count": null,
      "outputs": []
    },
    {
      "cell_type": "markdown",
      "metadata": {
        "id": "bEDtyZlSKc0O"
      },
      "source": [
        "## 観測モデルを設定"
      ]
    },
    {
      "cell_type": "code",
      "metadata": {
        "id": "24WIx_TIKfC5"
      },
      "source": [
        ""
      ],
      "execution_count": null,
      "outputs": []
    },
    {
      "cell_type": "markdown",
      "metadata": {
        "id": "xZvLKahJKqnA"
      },
      "source": [
        "## ベイズ推定"
      ]
    },
    {
      "cell_type": "markdown",
      "metadata": {
        "id": "nWFpr9ZMKflY"
      },
      "source": [
        "### ギブスサンプリング"
      ]
    },
    {
      "cell_type": "code",
      "metadata": {
        "id": "Ghv-5sLCKkIZ"
      },
      "source": [
        ""
      ],
      "execution_count": null,
      "outputs": []
    },
    {
      "cell_type": "markdown",
      "metadata": {
        "id": "CDadGIL7KkiT"
      },
      "source": [
        "### 崩壊型ギブスサンプリング"
      ]
    },
    {
      "cell_type": "code",
      "metadata": {
        "id": "NPHDqcKiKmG8"
      },
      "source": [
        ""
      ],
      "execution_count": null,
      "outputs": []
    },
    {
      "cell_type": "markdown",
      "metadata": {
        "id": "k7Yy0lBsKmhK"
      },
      "source": [
        "### 変分推論\n"
      ]
    },
    {
      "cell_type": "code",
      "metadata": {
        "id": "4pAp93lxKn7y"
      },
      "source": [
        "\n"
      ],
      "execution_count": null,
      "outputs": []
    },
    {
      "cell_type": "markdown",
      "metadata": {
        "id": "cAnnQkmIKvN7"
      },
      "source": [
        "## 実験"
      ]
    },
    {
      "cell_type": "code",
      "metadata": {
        "id": "7jAzPA5bKxUz"
      },
      "source": [
        ""
      ],
      "execution_count": null,
      "outputs": []
    }
  ]
}