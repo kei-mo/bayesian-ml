{
  "nbformat": 4,
  "nbformat_minor": 0,
  "metadata": {
    "colab": {
      "name": "Untitled0.ipynb",
      "provenance": [],
      "toc_visible": true,
      "authorship_tag": "ABX9TyMF/R9fngyUuNkkp/CMeY6z",
      "include_colab_link": true
    },
    "kernelspec": {
      "name": "python3",
      "display_name": "Python 3"
    },
    "language_info": {
      "name": "python"
    }
  },
  "cells": [
    {
      "cell_type": "markdown",
      "metadata": {
        "id": "view-in-github",
        "colab_type": "text"
      },
      "source": [
        "<a href=\"https://colab.research.google.com/github/kei-mo/bayesian-ml/blob/main/chapter4_gibbs_sampling.ipynb\" target=\"_parent\"><img src=\"https://colab.research.google.com/assets/colab-badge.svg\" alt=\"Open In Colab\"/></a>"
      ]
    },
    {
      "cell_type": "markdown",
      "metadata": {
        "id": "ltg7NnJGyTeZ"
      },
      "source": [
        "# Chapter4.2.2 ギブスサンプリング  \n",
        "ベイズ推論：データを説明するモデルのパラメータを分布として推定する   \n",
        "共役関係にある確率分布を使う場合→解析的に確率推論を実施することができる。"
      ]
    },
    {
      "cell_type": "code",
      "metadata": {
        "id": "hg58eOHryNbO"
      },
      "source": [
        ""
      ],
      "execution_count": null,
      "outputs": []
    }
  ]
}