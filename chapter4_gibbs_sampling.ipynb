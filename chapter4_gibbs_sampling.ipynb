{
  "nbformat": 4,
  "nbformat_minor": 0,
  "metadata": {
    "colab": {
      "name": "chapter4_gibbs_sampling.ipynb",
      "provenance": [],
      "collapsed_sections": [],
      "toc_visible": true,
      "authorship_tag": "ABX9TyNwJk77Rb78jUmEZ9rwEgQG",
      "include_colab_link": true
    },
    "kernelspec": {
      "name": "python3",
      "display_name": "Python 3"
    },
    "language_info": {
      "name": "python"
    }
  },
  "cells": [
    {
      "cell_type": "markdown",
      "metadata": {
        "id": "view-in-github",
        "colab_type": "text"
      },
      "source": [
        "<a href=\"https://colab.research.google.com/github/kei-mo/bayesian-ml/blob/main/chapter4_gibbs_sampling.ipynb\" target=\"_parent\"><img src=\"https://colab.research.google.com/assets/colab-badge.svg\" alt=\"Open In Colab\"/></a>"
      ]
    },
    {
      "cell_type": "markdown",
      "metadata": {
        "id": "ltg7NnJGyTeZ"
      },
      "source": [
        "# Chapter4.2.2 ギブスサンプリング  \n",
        "\n"
      ]
    },
    {
      "cell_type": "markdown",
      "metadata": {
        "id": "tC9hxSxf3fzj"
      },
      "source": [
        "## 問題背景\n",
        "ベイズ推論：データを説明するモデルのパラメータを分布として推定する   \n",
        "* 共役関係にある確率分布を使う場合→解析的に確率推論を実施することができる。  \n",
        "* 複雑なモデル(ex. 混合モデル)や共役関係にない確率分布を扱う場合  \n",
        "→解析的に確率推論を実施できない。  \n",
        "→**確率分布を近似して推論する**。"
      ]
    },
    {
      "cell_type": "markdown",
      "metadata": {
        "id": "RP7Jhc163d1y"
      },
      "source": [
        "\n",
        "## ベイズ推定での近似推論方法  \n",
        "* Markov Chain Monte Carlo (MCMC)法  \n",
        "* 変分推論\n",
        "\n",
        "### MCMC\n",
        "\n",
        "乱数を生成して\n",
        "* メトロポリス法\n",
        "* ギブスサンプラー\n",
        "* ハミルトニアン・モンテカルロ法\n",
        "\n",
        "### 変分推論\n",
        "最適化問題を解いて未知の確率分布の近似的な表現を得る  "
      ]
    },
    {
      "cell_type": "markdown",
      "metadata": {
        "id": "V4TOgXvJ3Y8W"
      },
      "source": [
        "## ギブスサンプリング\n",
        "\n",
        "\n",
        "\n",
        "1. $z_1^{i=0}$, $z_2^{i=0}$, $z_3^{i=0}$を初期化   \n",
        "*for i in loop*\n",
        "2. $z_1^{i} \\sim p(z_1^{i}| z_2^{i-1}, z_3^{i-1}$)  \n",
        "$z_2^{i-1}$, $z_3^{i-1}$に基づいて$p(z_1^{i}| z_2^{i-1}, z_3^{i-1}$)から$z_1^{i}$をサンプリング　($z_2^{i-1}$, $z_3^{i-1}$は固定)\n",
        "3. $z_2^{i} \\sim p(z_2^{i}| z_1^{i}, z_3^{i-1}$)\n",
        "4. $z_3^{i}\\sim p(z_3^{i}| z_1^{i}, z_2^{i}$)\n",
        "\n"
      ]
    },
    {
      "cell_type": "markdown",
      "metadata": {
        "id": "pv-ZMUxK64av"
      },
      "source": [
        "### 2次元ガウス分布の例"
      ]
    },
    {
      "cell_type": "code",
      "metadata": {
        "id": "hg58eOHryNbO"
      },
      "source": [
        "# import some common libraries\n",
        "import numpy as np\n",
        "from matplotlib import pyplot as plt"
      ],
      "execution_count": 1,
      "outputs": []
    },
    {
      "cell_type": "code",
      "metadata": {
        "id": "uAjCrOlA7dAX"
      },
      "source": [
        "def gaussian2d(z0,z1,mean,co_var):\n",
        "    \"\"\"2D Gaussian distribution\n",
        "    \n",
        "    \"\"\"\n"
      ],
      "execution_count": null,
      "outputs": []
    },
    {
      "cell_type": "code",
      "metadata": {
        "id": "E8NBLHtN8JRO"
      },
      "source": [
        "# setup params\n",
        "a = 0.5\n",
        "step = 100\n",
        "\n",
        "\n",
        "# initialize\n",
        "z0 = 0\n",
        "z1 = 0\n",
        "list_sample = []\n",
        "\n",
        "for i in range(step):\n",
        "\n",
        "\n"
      ],
      "execution_count": null,
      "outputs": []
    },
    {
      "cell_type": "code",
      "metadata": {
        "id": "RlU2WZ319Myd"
      },
      "source": [
        ""
      ],
      "execution_count": null,
      "outputs": []
    },
    {
      "cell_type": "markdown",
      "metadata": {
        "id": "P9YbNQnM9OOf"
      },
      "source": [
        "## 混合ガウス分布の例"
      ]
    }
  ]
}